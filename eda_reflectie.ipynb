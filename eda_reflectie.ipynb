{
 "cells": [
  {
   "cell_type": "markdown",
   "metadata": {},
   "source": [
    "## doel\n",
    "\n",
    "Mijn doel voor deze verdiepende casus is om te kijken of ik een model kan maken dat aan de hand van een gegeven DNA sequentie kan voorspellen of het DNA is van een gezonde of van een kanker cel.\n",
    "Ik baseer mijn casus op dit artikel:\n",
    "\n",
    "Cancer detection with various classification models: A comprehensive feature analysis using HMM to extract a nucleotide pattern\n",
    "\n",
    "## data\n",
    "\n",
    "### Hoe ziet de data eruit?\n",
    "\n",
    "De data zijn standaard DNA sequenties, verdeeld in sequenties van gezonde cellen en kanker cellen.\n",
    "\n",
    "### Waar komt de data vandaan?\n",
    "\n",
    "De data komt van NCBI de specifieke samples die ik gebruik komen van dit artikel:\n",
    "\n",
    "A behavioral study of healthy and cancer genes by modeling electrical network\n",
    "\n",
    "Dit was een van de weinige artikelen die de specifieke genen aangaven die ze gebruikten voor hun onderzoek daarom heb ik hier een deel van de samples van gebruikt.\n"
   ]
  },
  {
   "cell_type": "markdown",
   "metadata": {},
   "source": [
    "## resultaten"
   ]
  },
  {
   "cell_type": "code",
   "execution_count": 2,
   "metadata": {},
   "outputs": [
    {
     "name": "stderr",
     "output_type": "stream",
     "text": [
      "MultinomialHMM has undergone major changes. The previous version was implementing a CategoricalHMM (a special case of MultinomialHMM). This new implementation follows the standard definition for a Multinomial distribution (e.g. as in https://en.wikipedia.org/wiki/Multinomial_distribution). See these issues for details:\n",
      "https://github.com/hmmlearn/hmmlearn/issues/335\n",
      "https://github.com/hmmlearn/hmmlearn/issues/340\n",
      "MultinomialHMM has undergone major changes. The previous version was implementing a CategoricalHMM (a special case of MultinomialHMM). This new implementation follows the standard definition for a Multinomial distribution (e.g. as in https://en.wikipedia.org/wiki/Multinomial_distribution). See these issues for details:\n",
      "https://github.com/hmmlearn/hmmlearn/issues/335\n",
      "https://github.com/hmmlearn/hmmlearn/issues/340\n"
     ]
    },
    {
     "name": "stdout",
     "output_type": "stream",
     "text": [
      "cancer Model Score: -1.0103029524088925e-14\n",
      "healthy Model Score: -3.4139358007223564e-14\n",
      "cancer Model Score: -1.0824674490095276e-14\n",
      "healthy Model Score: -3.186340080674199e-14\n",
      "result:cancer\n",
      "Score:  -7.216449660063518e-16\n"
     ]
    }
   ],
   "source": [
    "from hmm import read_files, encode_sequences, train_hmm, evaluate_model, determine_best"
   ]
  },
  {
   "cell_type": "code",
   "execution_count": 3,
   "metadata": {},
   "outputs": [
    {
     "name": "stderr",
     "output_type": "stream",
     "text": [
      "MultinomialHMM has undergone major changes. The previous version was implementing a CategoricalHMM (a special case of MultinomialHMM). This new implementation follows the standard definition for a Multinomial distribution (e.g. as in https://en.wikipedia.org/wiki/Multinomial_distribution). See these issues for details:\n",
      "https://github.com/hmmlearn/hmmlearn/issues/335\n",
      "https://github.com/hmmlearn/hmmlearn/issues/340\n",
      "MultinomialHMM has undergone major changes. The previous version was implementing a CategoricalHMM (a special case of MultinomialHMM). This new implementation follows the standard definition for a Multinomial distribution (e.g. as in https://en.wikipedia.org/wiki/Multinomial_distribution). See these issues for details:\n",
      "https://github.com/hmmlearn/hmmlearn/issues/335\n",
      "https://github.com/hmmlearn/hmmlearn/issues/340\n"
     ]
    },
    {
     "name": "stdout",
     "output_type": "stream",
     "text": [
      "cancer model on cancer data score:  -1.0103029524088925e-14\n",
      "healthy model on cancer data score:  -3.186340080674199e-14\n",
      "cancer model on healthy data score:  -1.0824674490095276e-14\n",
      "healthy model on healthy data score:  -3.4139358007223564e-14\n"
     ]
    }
   ],
   "source": [
    "#reading the data\n",
    "cancer_sequences, healthy_sequences = read_files('data\\cancer', 'data\\healthy')\n",
    "\n",
    "#create the models\n",
    "cancer_model = train_hmm(cancer_sequences)\n",
    "healthy_model = train_hmm(healthy_sequences)\n",
    "\n",
    "#evaluate the models\n",
    "cancer_cancer_score = evaluate_model(cancer_model, cancer_sequences)\n",
    "healthy_cancer_score = evaluate_model(healthy_model, cancer_sequences)\n",
    "\n",
    "cancer_healthy_score = evaluate_model(cancer_model, healthy_sequences)\n",
    "healthy_healthy_score = evaluate_model(healthy_model, healthy_sequences)\n",
    "\n",
    "print(\"cancer model on cancer data score: \", cancer_cancer_score)\n",
    "print(\"healthy model on cancer data score: \", healthy_cancer_score)\n",
    "print(\"cancer model on healthy data score: \", cancer_healthy_score)\n",
    "print(\"healthy model on healthy data score: \", healthy_healthy_score)\n",
    "\n"
   ]
  },
  {
   "cell_type": "markdown",
   "metadata": {},
   "source": [
    "Bij de resultaten is te zien dat het kanker model altijd beter scoord dan het gezonde model. Zelfs op de gezonde data scoord het kanker model hoger. Het gezonde model doet het zelfs slechter op de gezonde data dan op de kanker data. Ik vind dit lastig te verklaren aangezien het model zich zelf zo zou moeten trainen dat het de beste parameters heeft om een zo hoog mogelijke score te krijgen. En aangezien ik een geimporteerde hmm module gebruik. Het zou mogelijk zijn dat de gezonde data meer gevarieerd is dan de kanker data en daarom een minder goed model traint, maar dit zou alsnog niet uitleggen waarom het kanker model het wel beter doet op de gezonde data dan het gezonde model zelf. De soort DNA sequenties zou ook overeen moeten komen het zijn allemaal genen die met kanker te maken hebben voor borst, prostaat en long kanker. En daarvan dan een gezonde en een gemuteerde variant. Dus er gaat waarschijnlijk wat fout bij het trainen van het gezonde model het is mij alleen niet gelukt om te vinden wat er fout gaat. Het zou mogelijk kunnen zijn dat meer data dit probleem zou verhelpen.\n",
    "\n",
    "Het is mij ook opgevallen dat de scores voor de modellen erg veel afhangen van de randomstate waarmee je het model begint. Er zijn dus mogelijk veel locale minima waar het model op uitkomt terwijl dit eigenlijk niet de beste uitkomst opleverd. Dit is mogelijk iets wat verholpen zou kunnen worden als je heel veel data hebt want dan is de kans kleiner dat het model stopt met verbeteren omdat het heel goed op 1 van de samples past."
   ]
  },
  {
   "cell_type": "code",
   "execution_count": 4,
   "metadata": {},
   "outputs": [
    {
     "name": "stdout",
     "output_type": "stream",
     "text": [
      "healhty result: cancer\n",
      "healthy Score:  -7.216449660063518e-16\n",
      "cancer result: cancer\n",
      "cancer Score:  -7.216449660063518e-16\n",
      "test result: cancer\n",
      "test Score:  -1.1102230246251565e-16\n"
     ]
    }
   ],
   "source": [
    "#determine sequence type\n",
    "healthy_sequence ='GGTCTCCCCCAAACCTGCCACCGACGGCCACTTCCGTTTCCCCGATAGTATTTGGGGATCTCGAAGCGATACTTCCGGCTCCCCCCAGGTCCCCAAGCTTTACTTTTGTGGGGCACGACGAGAAAGTCCGCAGCCCCAAACATTCCCAGAGGTCCACTTGGGCCAGTGGTACTTTATCGCAGGGGCAGCTCCCACCAAGGAGGAGTTGGCAACTTTTGACCCTGTGGACAACATTGTCTTCAATATGGCTGCTGGCTCTGCCCCGATGCAGCTCCACCTTCGTGCTACCATCCGCATGAAAGATGGGCTCTGTGTGCCCCGGAAATGGATCTACCACCTGACTGAAGGGAGCACAGATCTCAGAACTGAAGGCCGCCCTGACATGAAGACTGAGCTCTTTTCCAGCTCATGCCCAGGTGGAATCATGCTGAATGAGACAGGCCAGGGTTACCAGCGCTTTCTCCTCTACAATCGCTCACCACATCCTCCCGAAAAGTGTGTGGAGGAATTCAAGTCCCTGACTTCCTGCCTGGACTCCAAAGCCTTCTTATTGACTCCTAGGAATCAAGAGGCCTGTGAGCTGTCCAATAACTGACCTGTAACTTCATCTAAGTCCCCAGATGGGTACAATGGGAGCTGAGTTGTTGGAGGGAGAAGCTGGAGACTTCCAGCTCCAGCTCCCACTCAAGATAATAAAGATAATTTTTCAATCCTCAAAAAAA'\n",
    "\n",
    "healthy_result, healthy_score = determine_best(healthy_sequence, cancer_model, healthy_model)\n",
    "\n",
    "print(\"healhty result: \" + healthy_result)\n",
    "print(\"healthy Score: \", healthy_score)\n",
    "\n",
    "cancer_sequence = 'AGTCCCGCGACCGAAGCAGGGCGCGCAGCAGCGCTGAGTGCCCCGGAACGTGCGTCGCGCCCCCAGTGTCCGTCGCGTCCGCCGCGCCCCGGGCGGGGATGGGGCGGCCAGACTGAGCGCCGCACCCGCCATCCAGACCCGCCGGCCCTAGCCGCAGTCCCTCCAGCCGTGGCCCCAGCGCGCACGGGCGATGGCGAAGGCGACGTCCGGTGCCGCGGGGCTGCGTCTGCTGTTGCTGCTGCTGCTGCCGCTGCTAGGCAAAGTGGCATTGGGCCTCTACTTCTCGAGGGATGCTTACTGGGAGAAGCTGTATGTGGACCAGGCGGCCGGCACGCCCTTGCTGTACGTCCATGCCCTGCGGGACGCCCCTGAGGAGGTGCCCAGCTTCCGCCTGGGCCAGCATCTCTACGGCACGTACCGCACACGGCTGCATGAGAACAACTGGATCTGCATCCAGGAGGACACCGGCCTCCTCTACCTTAACCGGAGCCTGGACCATAGCTCCTGGGAGAAGCTCAGTGTCCGCAACCGCGGCTTTCCCCTGCTCACCGTCTACCTCAAGGTCTTCCTGTCACCCACATCCCTTCGTGAGGGCGAGTGCCAGTGGCCAGGCTGTGCCCGCGTATACTTCTCCTTCTTCAACACCTCCTTTCCAGCCTGCAGCTCCCTCAAGCCCCGGGAGCTCTGCTTCCCAGAGACAAGGCCCTCCTTCCGCATTCGGGAGAACCGACCCCCAGGCACCTTCCACCAGTTCCGCCTGCTGCCTGTGCAGTTCTTGTGCCCCAACATCAGCGTGGCCTACAGGCTCCTGGAGGGTGAGGGTCTGCCCTTCCGCTGCGCCCCGGACAGCCTGGAGGTGAGCACGCGCTGGGCCCTGGACCGCGAGCAGCGGGAGAAGTACGAGCTGGTGGCCGTGTGCACCGTGCACGCCGGCGCGCGCGAGGAGGTGGTGATGGTGCCCTTCCCGGTGACCGTGTACGACGAGGACGACTCGGCGCCCACCTTCCCCGCGGGCGTCGACACCGCCAGCGCCGTGGTGGAGTTCAAGCGGAAGGAGGACACCGTGGTGGCCACGCTGCGTGTCTTCGATGCAGACGTGGTACCTGCATCAGGGGAGCTGGTGAGGCGGTACACAAGCACGCTGCTCCCCGGGGACACCTGGGCCCAGCAGACCTTCCGGGTGGAACACTGGCCCAACGAGACCTCGGTCCAGGCCAACGGCAGCTTCGTGCGGGCGACCGTACATGACTATAGGCTGGTTCTCAACCGGAACCTCTCCATCTCGGAGAACCGCACCATGCAGCTGGCGGTGCTGGTCAATGACTCAGACTTCCAGGGCCCAGGAGCGGGCGTCCTCTTGCTCCACTTCAACGTGTCGGTGCTGCCGGTCAGCCTGCACCTGCCCAGTACCTACTCCCTCTCCGTGAGCAGGAGGGCTCGCCGATTTGCCCAGATCGGGAAAGTCTGTGTGGAAAACTGCCAGGCATTCAGTGGCATCAACGTCCAGTACAAGCTGCATTCCTCTGGTGCCAACTGCAGCACGCTAGGGGTGGTCACCTCAGCCGAGGACACCTCGGGGATCCTGTTTGTGAATGACACCAAGGCCCTGCGGCGGCCCAAGTGTGCCGAACTTCACTACATGGTGGTGGCCACCGACCAGCAGACCTCTAGGCAGGCCCAGGCCCAGCTGCTTGTAACAGTGGAGGGGTCATATGTGGCCGAGGAGGCGGGCTGCCCCCTGTCCTGTGCAGTCAGCAAGAGACGGCTGGAGTGTGAGGAGTGTGGCGGCCTGGGCTCCCCAACAGGCAGGTGTGAGTGGAGGCAAGGAGATGGCAAAGGGATCACCAGGAACTTCTCCACCTGCTCTCCCAGCACCAAGACCTGCCCCGACGGCCACTGCGATGTTGTGGAGACCCAAGACATCAACATTTGCCCTCAGGACTGCCTCCGGGGCAGCATTGTTGGGGGACACGAGCCTGGGGAGCCCCGGGGGATTAAAGCTGGCTATGGCACCTGCAACTGCTTCCCTGAGGAGGAGAAGTGCTTCTGCGAGCCCGAAGACATCCAGGATCCACTGTGCGACGAGCTGTGCCGCACGGTGATCGCAGCCGCTGTCCTCTTCTCCTTCATCGTCTCGGTGCTGCTGTCTGCCTTCTGCATCCACTGCTACCACAAGTTTGCCCACAAGCCACCCATCTCCTCAGCTGAGATGACCTTCCGGAGGCCCGCCCAGGCCTTCCCGGTCAGCTACTCCTCTTCCGGTGCCCGCCGGCCCTCGCTGGACTCCATGGAGAACCAGGTCTCCGTGGATGCCTTCAAGATCCTGGAGGATCCAAAGTGGGAATTCCCTCGGAAGAACTTGGTTCTTGGAAAAACTCTAGGAGAAGGCGAATTTGGAAAAGTGGTCAAGGCAACGGCCTTCCATCTGAAAGGCAGAGCAGGGTACACCACGGTGGCCGTGAAGATGCTGAAAGAGAACGCCTCCCCGAGTGAGCTTCGAGACCTGCTGTCAGAGTTCAACGTCCTGAAGCAGGTCAACCACCCACATGTCATCAAATTGTATGGGGCCTGCAGCCAGGATGGCCCGCTCCTCCTCATCGTGGAGTACGCCAAATACGGCTCCCTGCGGGGCTTCCTCCGCGAGAGCCGCAAAGTGGGGCCTGGCTACCTGGGCAGTGGAGGCAGCCGCAACTCCAGCTCCCTGGACCACCCGGATGAGCGGGCCCTCACCATGGGCGACCTCATCTCATTTGCCTGGCAGATCTCACAGGGGATGCAGTATCTGGCCGAGATGAAGCTCGTTCATCGGGACTTGGCAGCCAGAAACATCCTGGTAGCTGAGGGGCGGAAGATGAAGATTTCGGATTTCGGCTTGTCCCGAGATGTTTATGAAGAGGATTCCTACGTGAAGAGGAGCCAGGGTCGGATTCCAGTTAAATGGATGGCAATTGAATCCCTTTTTGATCATATCTACACCACGCAAAGTGATGTATGGTCTTTTGGTGTCCTGCTGTGGGAGATCGTGACCCTAGGGGGAAACCCCTATCCTGGGATTCCTCCTGAGCGGCTCTTCAACCTTCTGAAGACCGGCCACCGGATGGAGAGGCCAGACAACTGCAGCGAGGAGATGTACCGCCTGATGCTGCAATGCTGGAAGCAGGAGCCGGACAAAAGGCCGGTGTTTGCGGACATCAGCAAAGACCTGGAGAAGATGATGGTTAAGAGGAGAGACTACTTGGACCTTGCGGCGTCCACTCCATCTGACTCCCTGATTTATGACGACGGCCTCTCAGAGGAGGAGACACCGCTGGTGGACTGTAATAATGCCCCCCTCCCTCGAGCCCTCCCTTCCACATGGATTGAAAACAAACTCTATGGTAGAATTTCCCATGCATTTACTAGATTCTAGCACCGCTGTCCCCTCTGCACTATCCTTCCTCTCTGTGATGCTTTTTAAAAATGTTTCTGGTCTGAACAAAACCAAAGTCTGCTCTGAACCTTTTTATTTGTAAATGTCTGACTTTGCATCCAGTTTACATTTAGGCATTATTGCAACTATGTTTTTCTAAAAGGAAGTGAAAATAAGTGTAATTACCACATTGCCCAGCAACTTAGGATGGTAGAGGAAAAAACAGATCAGGGCGGAACTCTCAGGGGAGACCAAGAACAGGTTGAATAAGGCGCTTCTGGGGTGGGAATCAAGTCATAGTACTTCTACTTTAACTAAGTGGATAAATATACAAATCTGGGGAGGTATTCAGTTGAGAAAGGAGCCACCAGCACCACTCAGCCTGCACTGGGAGCACAGCCAGGTTCCCCCAGACCCCTCCTGGGCAGGCAGGTGCCTCTCAGAGGCCACCCGGCACTGGCGAGCAGCCACTGGCCAAGCCTCAGCCCCAGTCCCAGCCACATGTCCTCCATCAGGGGTAGCGAGGTTGCAGGAGCTGGCTGGCCCTGGGAGGACGCACCCCCACTGCTGTTTTCACATCCTTTCCCTTACCCACCTTCAGGACGGTTGTCACTTATGAAGTCAGTGCTAAAGCTGGAGCAGTTGCTTTTTGAAAGAACATGGTCTGTGGTGCTGTGGTCTTACAATGGACAGTAAATATGGTTCTTGCCAAAACTCCTTCTTTTGTCTTTGATTAAATACTAGAAATTTAAAAAAAAAAAAAAA'\n",
    "cancer_result, cancer_score = determine_best(cancer_sequence, cancer_model, healthy_model)\n",
    "\n",
    "print(\"cancer result: \" + cancer_result)\n",
    "print(\"cancer Score: \", cancer_score)\n",
    "\n",
    "cancer_result, cancer_score = determine_best('ATATATAGCG', cancer_model, healthy_model)\n",
    "\n",
    "print(\"test result: \" + cancer_result)\n",
    "print(\"test Score: \", cancer_score)"
   ]
  },
  {
   "cell_type": "markdown",
   "metadata": {},
   "source": [
    "Hier is te zien dat de determine_best functie voor het gezonde en kanker DNA de zelfde score geeft ookal is het compleet anders. Maar aan de test te zien geeft de functie niet altijd het zelfde resultaat. Ik heb geprobeerd dit op te lossen maar zelfs met andere sequenties geeft de functie altijd -7.21e-16 het lijkt er bijna op dat de score functie van hmm die mijn functie gebruikt niet lager kan dan dit"
   ]
  },
  {
   "cell_type": "markdown",
   "metadata": {},
   "source": [
    "## reflectie\n",
    "\n",
    "Ik heb een model gemaakt door gebruik te maken van hmmlearn. Echter als je het model traint op de data waarmee ik het model heb getest krijg je er niet een heel goed model uit. Momenteel is het model vrijwel compleet afhankelijk van de randomstate waarmee je het model traint. Deze staat nu op 42 (HGTTG), Hierdoor is het kanker model altijd beter dan het gezonde model en zal het model vrijwel altijd zeggen dat een gegeven sequentie kanker is. Ik heb 2 mogelijke oplossingen voor dit probleem bedacht: Veel meer data gebruiken. Het is mogelijk dat de reden dat de random state zoveel uitmaakt is dat er erg veel lokale minima zijn en als het model daar in komt tijdens het trainen dat het daar niet meer uitkomt ookal zijn er eigenlijk betere parameters. En dan ligt het aan de random state in welk minimum het model komt wat dus uiteindelijk bepaald hoe goed het model is. Een andere oplossing is dat je het model zo maakt dat het blijft trainen met verschillende random states om te kijken of het model een random state kan vinden waarbij de score van het model beter is. Dit zou mogelijk kunnen werken bij een gelimiteerde hoeveelheid data maar dit zal er wel voor zorgen dat het trainen veel langer duurt.\n",
    "\n",
    "Een ander probleem in mijn model zit in de determine_best functie. Deze functie geeft voor DNA sequenties vanaf een bepaalde lengte altijd de zelfde score. Ik heb geprobeerd uit te zoeken waar dit door komt maar ik heb er geen oplossing voor kunnen vinden.\n",
    "\n",
    "### mogelijke toevoegingen\n",
    "\n",
    "Buiten het oplossen van de eerder genoemde problemen zijn er ook nog een paar andere dingen die toe wou voegen maar waar ik uiteindelijk niet aan toe gekomen ben.\n",
    "1: Nu zegt het model gewoon of een sequentie van een gezonde of kanker cel is. Ik zou willen dat het model ook aangeeft hoe zeker hij hier over is.\n",
    "2: Het hmm model helemaal zelf maken. In het begin had ik geprobeerd om zelf een hmm model te programmeren gebaseerd op het model wat we bij casus 1 hadden gemaakt. Dit is helaas niet gelukt daarom had ik uiteindelijk besloten om de hmmlearn module te gebruiken. Met een zelfgemaakt hmm model zou het makkelijker kunnen zijn om bepaalde problemen op te lossen aangezien je helemaal tot in de werking van je code kan kijken.\n",
    "3: Automatisch data verzamelen van NCBI. Dit is niet perse een verbetering voor het model zelf. Maar een van de problemen die het model nu heeft is dat hij niet genoeg data heeft om op te trainen. Maar omdat het redelijk langzaam gaat om data van NCBI te downloaden. En het is soms lastig om er achter te komen welke specifieke samples andere onderzoeken hebben gebruikt. Het zou heel handig zijn als je bijvoorbeeld automatisch voor specifieke genen samples kon downloaden. En dan natuurlijk gezonde en kanker samples.\n"
   ]
  }
 ],
 "metadata": {
  "kernelspec": {
   "display_name": "Python 3",
   "language": "python",
   "name": "python3"
  },
  "language_info": {
   "codemirror_mode": {
    "name": "ipython",
    "version": 3
   },
   "file_extension": ".py",
   "mimetype": "text/x-python",
   "name": "python",
   "nbconvert_exporter": "python",
   "pygments_lexer": "ipython3",
   "version": "3.11.11"
  }
 },
 "nbformat": 4,
 "nbformat_minor": 2
}
